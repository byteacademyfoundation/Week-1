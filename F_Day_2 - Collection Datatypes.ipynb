{
 "cells": [
  {
   "cell_type": "markdown",
   "metadata": {},
   "source": [
    "# Collection Datatypes"
   ]
  },
  {
   "cell_type": "markdown",
   "metadata": {},
   "source": [
    "There are four collection data types in the Python programming language:\n",
    "\n",
    "1. List is a collection which is ordered and changeable. Allows duplicate members.\n",
    "2. Tuple is a collection which is ordered and unchangeable. Allows duplicate members.\n",
    "3. Set is a collection which is unordered and unindexed. No duplicate members.\n",
    "4. Dictionary is a collection which is unordered, changeable and indexed. No duplicate members.\n",
    "\n",
    "When choosing a collection type, it is useful to understand the properties of that type.\n",
    "\n",
    "Choosing the right type for a particular data set could mean retention of meaning and \n",
    "it could mean an increase in efficiency or security."
   ]
  },
  {
   "cell_type": "markdown",
   "metadata": {},
   "source": [
    "# List"
   ]
  },
  {
   "cell_type": "markdown",
   "metadata": {},
   "source": [
    "A list is a collection which is ordered and changeable. In Python lists are written with square brackets."
   ]
  },
  {
   "cell_type": "code",
   "execution_count": 9,
   "metadata": {},
   "outputs": [
    {
     "name": "stdout",
     "output_type": "stream",
     "text": [
      "['apple', 'banana', 'pineapple', 4, 5.5, 6, True]\n"
     ]
    }
   ],
   "source": [
    "# create a list\n",
    "\n",
    "this_list = [\"apple\", \"banana\", 'cherry', 4, 5.5, 6, True]\n",
    "#print(this_list[2])\n",
    "# accessing an element\n",
    "#print(this_list[0:4])\n",
    "# change item value\n",
    "this_list[2] = \"pineapple\"\n",
    "print(this_list)\n",
    "# length of the list\n",
    "#print(len(this_list))\n",
    "# print(this_list)"
   ]
  },
  {
   "cell_type": "code",
   "execution_count": 9,
   "metadata": {},
   "outputs": [
    {
     "name": "stdout",
     "output_type": "stream",
     "text": [
      "apple\n",
      "banana\n",
      "cherry\n"
     ]
    }
   ],
   "source": [
    "# Print all items in the list, one by one:\n",
    "\n",
    "thislist = [\"apple\", \"banana\", \"cherry\"]\n",
    "\n",
    "for i in thislist:\n",
    "    print(i)"
   ]
  },
  {
   "cell_type": "code",
   "execution_count": 10,
   "metadata": {},
   "outputs": [
    {
     "name": "stdout",
     "output_type": "stream",
     "text": [
      "Yes, 'apple' is in the fruits list\n"
     ]
    }
   ],
   "source": [
    "# Check if \"apple\" is present in the list:\n",
    "\n",
    "thislist = [\"apple\", \"banana\", \"cherry\"]\n",
    "\n",
    "if \"apple\" in thislist:\n",
    "    print(\"Yes, 'apple' is in the fruits list\")\n",
    "else:\n",
    "    print(\"Not\")"
   ]
  },
  {
   "cell_type": "code",
   "execution_count": 12,
   "metadata": {},
   "outputs": [
    {
     "name": "stdout",
     "output_type": "stream",
     "text": [
      "['apple', 'banana', 'cherry', 'orange']\n",
      "['orange', 'apple', 'banana', 'cherry']\n"
     ]
    }
   ],
   "source": [
    "# Add Items using append() and insert()\n",
    "\n",
    "# to add an item to the end of the list, use the append() method:\n",
    "\n",
    "thislist = [\"apple\", \"banana\", \"cherry\"]\n",
    "thislist.append(\"orange\")\n",
    "print(thislist)\n",
    "\n",
    "# To add an item at the specified index, use the insert() method:\n",
    "\n",
    "thislist = [\"apple\", \"banana\", \"cherry\"]\n",
    "thislist.insert(0, \"orange\")\n",
    "print(thislist)"
   ]
  },
  {
   "cell_type": "code",
   "execution_count": 24,
   "metadata": {},
   "outputs": [
    {
     "name": "stdout",
     "output_type": "stream",
     "text": [
      "['banana', 'cherry']\n"
     ]
    }
   ],
   "source": [
    "# Remove items  using remove()\n",
    "this_list = [\"apple\", \"banana\", \"cherry\"]\n",
    "#print(this_list)\n",
    "this_list.remove(\"apple\")\n",
    "print(this_list)\n"
   ]
  },
  {
   "cell_type": "code",
   "execution_count": 27,
   "metadata": {},
   "outputs": [
    {
     "name": "stdout",
     "output_type": "stream",
     "text": [
      "['apple', 'banana']\n"
     ]
    }
   ],
   "source": [
    "# pop elements using pop()\n",
    "this_list = [\"apple\", \"banana\", \"cherry\"]\n",
    "this_list.pop()\n",
    "thislist.pop(1)\n",
    "print(this_list)"
   ]
  },
  {
   "cell_type": "code",
   "execution_count": 29,
   "metadata": {},
   "outputs": [
    {
     "name": "stdout",
     "output_type": "stream",
     "text": [
      "['banana', 'cherry']\n",
      "[]\n"
     ]
    }
   ],
   "source": [
    "# delete element using del\n",
    "thislist = [\"apple\", \"banana\", \"cherry\"]\n",
    "del thislist[0]\n",
    "print(thislist)\n",
    "del thislist[0:2]\n",
    "print(thislist)\n"
   ]
  },
  {
   "cell_type": "code",
   "execution_count": 2,
   "metadata": {},
   "outputs": [
    {
     "name": "stdout",
     "output_type": "stream",
     "text": [
      "['apple', 'banana', 'cherry'] ['apple', 'banana', 'cherry']\n"
     ]
    }
   ],
   "source": [
    "# copy list\n",
    "thislist = [\"apple\", \"banana\", \"cherry\"]\n",
    "mylist = thislist.copy()\n",
    "print(thislist,mylist)"
   ]
  },
  {
   "cell_type": "code",
   "execution_count": 3,
   "metadata": {},
   "outputs": [
    {
     "name": "stdout",
     "output_type": "stream",
     "text": [
      "2\n"
     ]
    }
   ],
   "source": [
    "# count \n",
    "fruits = [\"apple\", \"banana\", \"cherry\", \"cherry\"]\n",
    "x = fruits.count(\"cherry\")\n",
    "print(x)\n"
   ]
  },
  {
   "cell_type": "code",
   "execution_count": 5,
   "metadata": {},
   "outputs": [
    {
     "name": "stdout",
     "output_type": "stream",
     "text": [
      "2\n"
     ]
    }
   ],
   "source": [
    "# index \n",
    "fruits = ['banana', 'cherry', 'apple', 'apple']\n",
    "x = fruits.index(\"apple\")\n",
    "print(x)"
   ]
  },
  {
   "cell_type": "code",
   "execution_count": 7,
   "metadata": {},
   "outputs": [
    {
     "name": "stdout",
     "output_type": "stream",
     "text": [
      "['apple', 'banana', 'cherry', 1, 2, 3]\n"
     ]
    }
   ],
   "source": [
    "# extend() - add elements of one list to another\n",
    "fruits = ['apple', 'banana', 'cherry']\n",
    "cars = [1, 2, 3]\n",
    "fruits.extend(cars)\n",
    "print(fruits)"
   ]
  },
  {
   "cell_type": "code",
   "execution_count": 9,
   "metadata": {},
   "outputs": [
    {
     "name": "stdout",
     "output_type": "stream",
     "text": [
      "['cherry', 'banana', 'apple']\n"
     ]
    }
   ],
   "source": [
    "# reverse() - Reverse the order of the list:\n",
    "fruits = ['apple', 'banana', 'cherry']\n",
    "fruits.reverse()\n",
    "print(fruits)"
   ]
  },
  {
   "cell_type": "code",
   "execution_count": 10,
   "metadata": {},
   "outputs": [
    {
     "name": "stdout",
     "output_type": "stream",
     "text": [
      "['a', 'w', 'z']\n"
     ]
    }
   ],
   "source": [
    "# Sort the list alphabetically:\n",
    "cars = [\"z\", 'w', 'a']\n",
    "cars.sort()\n",
    "print(cars)"
   ]
  },
  {
   "cell_type": "markdown",
   "metadata": {},
   "source": [
    "# Tuples"
   ]
  },
  {
   "cell_type": "markdown",
   "metadata": {},
   "source": [
    "A tuple is a collection which is ordered and unchangeable. In Python tuples are written with round brackets."
   ]
  },
  {
   "cell_type": "code",
   "execution_count": 27,
   "metadata": {},
   "outputs": [
    {
     "name": "stdout",
     "output_type": "stream",
     "text": [
      "('apple', 'banana', 'cherry')\n"
     ]
    }
   ],
   "source": [
    "# Create a Tuple:\n",
    "\n",
    "thistuple = (\"apple\", \"banana\", \"cherry\")\n",
    "print(thistuple)"
   ]
  },
  {
   "cell_type": "code",
   "execution_count": 28,
   "metadata": {},
   "outputs": [
    {
     "name": "stdout",
     "output_type": "stream",
     "text": [
      "banana\n"
     ]
    },
    {
     "data": {
      "text/plain": [
       "'apple'"
      ]
     },
     "execution_count": 28,
     "metadata": {},
     "output_type": "execute_result"
    }
   ],
   "source": [
    "# Return the item in position 1:\n",
    "\n",
    "thistuple = (\"apple\", \"banana\", \"cherry\")\n",
    "print(thistuple[1])"
   ]
  },
  {
   "cell_type": "code",
   "execution_count": 3,
   "metadata": {},
   "outputs": [
    {
     "name": "stdout",
     "output_type": "stream",
     "text": [
      "apple\n",
      "banana\n",
      "cherry\n"
     ]
    }
   ],
   "source": [
    "# Iterate through the items and print the values:\n",
    "\n",
    "thistuple = (\"apple\", \"banana\", \"cherry\")\n",
    "for x in thistuple:\n",
    "    print(x)"
   ]
  },
  {
   "cell_type": "code",
   "execution_count": 48,
   "metadata": {},
   "outputs": [
    {
     "name": "stdout",
     "output_type": "stream",
     "text": [
      "not in this tuple\n"
     ]
    }
   ],
   "source": [
    "# Check if \"apple\" is present in the tuple:\n",
    "\n",
    "thistuple = (\"apple\", \"banana\", \"cherry\")\n",
    "if \"pineapple\" in thistuple:\n",
    "    print(\"Yes, 'apple' is in the fruits tuple\")\n",
    "else:\n",
    "    print(\"not in this tuple\")"
   ]
  },
  {
   "cell_type": "code",
   "execution_count": 5,
   "metadata": {},
   "outputs": [
    {
     "name": "stdout",
     "output_type": "stream",
     "text": [
      "3\n"
     ]
    }
   ],
   "source": [
    "# Print the number of items in the tuple:\n",
    "\n",
    "thistuple = (\"apple\", \"banana\", \"cherry\")\n",
    "print(len(thistuple))"
   ]
  },
  {
   "cell_type": "code",
   "execution_count": 57,
   "metadata": {},
   "outputs": [
    {
     "ename": "AttributeError",
     "evalue": "'tuple' object has no attribute 'append'",
     "output_type": "error",
     "traceback": [
      "\u001b[1;31m---------------------------------------------------------------------------\u001b[0m",
      "\u001b[1;31mAttributeError\u001b[0m                            Traceback (most recent call last)",
      "\u001b[1;32m<ipython-input-57-a32547665628>\u001b[0m in \u001b[0;36m<module>\u001b[1;34m\u001b[0m\n\u001b[0;32m      3\u001b[0m \u001b[1;33m\u001b[0m\u001b[0m\n\u001b[0;32m      4\u001b[0m \u001b[0mthistuple\u001b[0m \u001b[1;33m=\u001b[0m \u001b[1;33m(\u001b[0m\u001b[1;34m\"apple\"\u001b[0m\u001b[1;33m,\u001b[0m \u001b[1;34m\"banana\"\u001b[0m\u001b[1;33m,\u001b[0m \u001b[1;34m\"cherry\"\u001b[0m\u001b[1;33m)\u001b[0m\u001b[1;33m\u001b[0m\u001b[1;33m\u001b[0m\u001b[0m\n\u001b[1;32m----> 5\u001b[1;33m \u001b[0mthistuple\u001b[0m\u001b[1;33m.\u001b[0m\u001b[0mappend\u001b[0m\u001b[1;33m(\u001b[0m\u001b[1;34m'orange'\u001b[0m\u001b[1;33m)\u001b[0m  \u001b[1;31m# This will raise an error\u001b[0m\u001b[1;33m\u001b[0m\u001b[1;33m\u001b[0m\u001b[0m\n\u001b[0m\u001b[0;32m      6\u001b[0m \u001b[1;31m#print(thistuple)\u001b[0m\u001b[1;33m\u001b[0m\u001b[1;33m\u001b[0m\u001b[1;33m\u001b[0m\u001b[0m\n",
      "\u001b[1;31mAttributeError\u001b[0m: 'tuple' object has no attribute 'append'"
     ]
    }
   ],
   "source": [
    "# Add items\n",
    "# Once a tuple is created, you cannot add items to it. Tuples are unchangeable.\n",
    "\n",
    "thistuple = (\"apple\", \"banana\", \"cherry\")\n",
    "thistuple.append('orange')  # This will raise an error\n",
    "#print(thistuple)"
   ]
  },
  {
   "cell_type": "code",
   "execution_count": 29,
   "metadata": {},
   "outputs": [
    {
     "ename": "TypeError",
     "evalue": "'tuple' object doesn't support item deletion",
     "output_type": "error",
     "traceback": [
      "\u001b[1;31m---------------------------------------------------------------------------\u001b[0m",
      "\u001b[1;31mTypeError\u001b[0m                                 Traceback (most recent call last)",
      "\u001b[1;32m<ipython-input-29-b3bffe45d553>\u001b[0m in \u001b[0;36m<module>\u001b[1;34m\u001b[0m\n\u001b[0;32m      2\u001b[0m \u001b[1;33m\u001b[0m\u001b[0m\n\u001b[0;32m      3\u001b[0m \u001b[0mthistuple\u001b[0m \u001b[1;33m=\u001b[0m \u001b[1;33m(\u001b[0m\u001b[1;34m\"apple\"\u001b[0m\u001b[1;33m,\u001b[0m \u001b[1;34m\"banana\"\u001b[0m\u001b[1;33m,\u001b[0m \u001b[1;34m\"cherry\"\u001b[0m\u001b[1;33m)\u001b[0m\u001b[1;33m\u001b[0m\u001b[1;33m\u001b[0m\u001b[0m\n\u001b[1;32m----> 4\u001b[1;33m \u001b[1;32mdel\u001b[0m \u001b[0mthistuple\u001b[0m\u001b[1;33m[\u001b[0m\u001b[1;36m0\u001b[0m\u001b[1;33m]\u001b[0m\u001b[1;33m\u001b[0m\u001b[1;33m\u001b[0m\u001b[0m\n\u001b[0m\u001b[0;32m      5\u001b[0m \u001b[1;31m# print(thistuple)\u001b[0m\u001b[1;33m\u001b[0m\u001b[1;33m\u001b[0m\u001b[1;33m\u001b[0m\u001b[0m\n\u001b[0;32m      6\u001b[0m \u001b[1;31m#this will raise an error because the tuple no longer exists\u001b[0m\u001b[1;33m\u001b[0m\u001b[1;33m\u001b[0m\u001b[1;33m\u001b[0m\u001b[0m\n",
      "\u001b[1;31mTypeError\u001b[0m: 'tuple' object doesn't support item deletion"
     ]
    }
   ],
   "source": [
    "# The del keyword can delete the tuple completely:\n",
    "\n",
    "thistuple = (\"apple\", \"banana\", \"cherry\")\n",
    "del thistuple\n",
    "# print(thistuple) \n",
    "#this will raise an error because the tuple no longer exists\n",
    "\n"
   ]
  },
  {
   "cell_type": "code",
   "execution_count": 33,
   "metadata": {},
   "outputs": [
    {
     "name": "stdout",
     "output_type": "stream",
     "text": [
      "('apple', 'banana', 'cherry')\n"
     ]
    }
   ],
   "source": [
    "# Using the tuple() method to make a tuple:\n",
    "\n",
    "thistuple = tuple([\"apple\", \"banana\", \"cherry\"]) \n",
    "print(thistuple)"
   ]
  },
  {
   "cell_type": "code",
   "execution_count": 63,
   "metadata": {},
   "outputs": [
    {
     "data": {
      "text/plain": [
       "2"
      ]
     },
     "execution_count": 63,
     "metadata": {},
     "output_type": "execute_result"
    }
   ],
   "source": [
    "thistuple = (\"apple\", \"banana\", \"cherry\", \"banana\")\n",
    "thistuple.count(\"banana\")"
   ]
  },
  {
   "cell_type": "code",
   "execution_count": 64,
   "metadata": {},
   "outputs": [
    {
     "data": {
      "text/plain": [
       "0"
      ]
     },
     "execution_count": 64,
     "metadata": {},
     "output_type": "execute_result"
    }
   ],
   "source": [
    "thistuple.index(\"apple\")"
   ]
  },
  {
   "cell_type": "markdown",
   "metadata": {},
   "source": [
    "# Sets"
   ]
  },
  {
   "cell_type": "code",
   "execution_count": 11,
   "metadata": {},
   "outputs": [
    {
     "name": "stdout",
     "output_type": "stream",
     "text": [
      "{'cherry', 'apple', 'banana'}\n",
      "{1, 'apple', 'orange'}\n"
     ]
    }
   ],
   "source": [
    "# Python Sets\n",
    "# A set is a collection which is unordered and unindexed. In Python sets are written with curly brackets.\n",
    "# Sets do not support duplicate items\n",
    "# Create a Set\n",
    "\n",
    "# list - []\n",
    "# Tuple - ()\n",
    "# Set -{}\n",
    "thisset = {\"apple\", \"banana\", \"cherry\"}\n",
    "print(thisset)\n",
    "\n",
    "# do not support duplicate items\n",
    "thisset = {'apple', 'apple', 'apple', 1, 1, 'orange'}\n",
    "print(thisset)"
   ]
  },
  {
   "cell_type": "code",
   "execution_count": null,
   "metadata": {},
   "outputs": [],
   "source": [
    "# ## Access set Items\n",
    "\n",
    "# ### You cannot access items in a set by referring to an index, since sets are unordered the items has no index, \n",
    "# # But you can loop through the set items using a \"for\" loop,\n",
    "# #or ask if a specified value is present in a set, by using the \"in\" keyword.\n",
    "\n",
    "# ### Loop through the set, and print the values:\n",
    "\n",
    "thisset = {'apple', 'banana', 'cherry'}\n",
    "for x in thisset:\n",
    "    print(x)\n",
    "\n",
    "# ### Check if \"banana\" is present in the set\n",
    "\n",
    "thisset = {\"apple\", \"banana\", \"cherry\"}\n",
    "\n",
    "if \"banana\" in thisset:\n",
    "    print(\"Yes, banana is in this set\")\n",
    "print(\"banana\" in thisset)"
   ]
  },
  {
   "cell_type": "code",
   "execution_count": null,
   "metadata": {},
   "outputs": [],
   "source": [
    "# # Change Items\n",
    "\n",
    "# # Add Items\n",
    "\n",
    "# ### Add an item to a set, using the \"add()\" method\n",
    "\n",
    "thisset = {\"apple\", \"banana\", \"cherry\"}\n",
    "thisset.add(\"orange\")\n",
    "print(thisset)\n",
    "\n",
    "\n",
    "# ### Add multiple items to a set, using the \"update()\" method\n",
    "\n",
    "thisset.update([\"orange\", \"mango\", \"grapes\"])\n",
    "print(thisset)"
   ]
  },
  {
   "cell_type": "code",
   "execution_count": null,
   "metadata": {},
   "outputs": [],
   "source": [
    "# # Get the Length of a Set\n",
    "# ## To determine how many items a set has, use the \"len()\" method.\n",
    "# ### Get the number of items in a set\n",
    "\n",
    "print(len(thisset))\n",
    "\n",
    "# # Remove Item\n",
    "\n",
    "# ## To remove an item in a set, use the \"remove()\", or the \"discard()\" method.\n",
    "# ### Remove \"banana\" by using the \"remove()\" method\n",
    "\n",
    "thisset.remove(\"banana\")\n",
    "print(thisset)\n",
    "\n",
    "# ### You can also use the \"pop()\", method to remove an item, but this method will remove the last item.\n",
    "# # Remember that sets are unordered, so you will not know what item that gets removed.\n",
    "# ### The return value of the \"pop()\" method is the removed item\n",
    "\n",
    "thisset = {\"apple\", \"banana\", \"cherry\"}\n",
    "x = thisset.pop()\n",
    "print(x)\n",
    "print(thisset)"
   ]
  },
  {
   "cell_type": "code",
   "execution_count": null,
   "metadata": {},
   "outputs": [],
   "source": [
    "# Clear Set\n",
    "# The \"clear()\" method empties the set\n",
    "\n",
    "thisset.clear()\n",
    "print(thisset)\n",
    "\n",
    "# Delete Set\n",
    "# The \"del\" keyword will delete the set completely\n",
    "\n",
    "thisset = {\"apple\", \"banana\", \"cherry\"}\n",
    "del thisset\n",
    "print(thisset)"
   ]
  },
  {
   "cell_type": "markdown",
   "metadata": {},
   "source": [
    "# Dictionaries"
   ]
  },
  {
   "cell_type": "code",
   "execution_count": 12,
   "metadata": {},
   "outputs": [
    {
     "name": "stdout",
     "output_type": "stream",
     "text": [
      "{'brand': 'Ford', 'model': 'Mustang', 'year': 1964}\n"
     ]
    }
   ],
   "source": [
    "# Dictionary\n",
    "\n",
    "## A dictionary is a collection which is unordered, changeable and indexed. In Python dictionaries\n",
    "# are written with curly brackets, and they have keys and values.\n",
    "\n",
    "### Create and print dictionary\n",
    "\n",
    "# Collection datatype with key : value pairs\n",
    "\n",
    "thisdict = {\"brand\": \"Ford\", \"model\": \"Mustang\", \"year\": 1964}\n",
    "print(thisdict)"
   ]
  },
  {
   "cell_type": "code",
   "execution_count": 14,
   "metadata": {},
   "outputs": [
    {
     "name": "stdout",
     "output_type": "stream",
     "text": [
      "Mustang\n",
      "brand_name\n",
      "{'brand': 'brand_name', 'model': 'Mustang', 'year': 2018, 'engine': 'V6'}\n"
     ]
    }
   ],
   "source": [
    "# Accessing an element\n",
    "\n",
    "print(thisdict[\"model\"])\n",
    "\n",
    "x = thisdict.get(\"brand\")\n",
    "print(x)\n",
    "\n",
    "# # Changing a value in the dictionary\n",
    "\n",
    "thisdict ={\"brand\": \"Ford\", \"model\": \"Mustang\", \"year\": 1964}\n",
    "\n",
    "thisdict[\"year\"] = 2018\n",
    "thisdict[\"brand\"] = \"Honda\"\n",
    "thisdict['engine'] = 'V6'\n",
    "thisdict['brand']=\"brand_name\"\n",
    "print(thisdict)"
   ]
  },
  {
   "cell_type": "code",
   "execution_count": 6,
   "metadata": {},
   "outputs": [
    {
     "name": "stdout",
     "output_type": "stream",
     "text": [
      "brand\n",
      "model\n",
      "year\n",
      "engine\n",
      "Ford\n",
      "Mustang\n",
      "1964\n",
      "Ford\n",
      "Mustang\n",
      "1964\n"
     ]
    }
   ],
   "source": [
    "# # Print all key names in the dictionary, one by one:\n",
    "\n",
    "for i in thisdict:\n",
    "    print(i)\n",
    "\n",
    "# # Print all values in the dictionary, one by one:\n",
    "\n",
    "thisdict ={\"brand\": \"Ford\", \"model\": \"Mustang\", \"year\": 1964}\n",
    "for i in thisdict:\n",
    "    print(thisdict[i])\n",
    "    # getting values\n",
    "for x in thisdict.values():\n",
    "    print(x)"
   ]
  },
  {
   "cell_type": "code",
   "execution_count": 16,
   "metadata": {},
   "outputs": [
    {
     "name": "stdout",
     "output_type": "stream",
     "text": [
      "<class 'str'> <class 'str'>\n",
      "<class 'str'> <class 'str'>\n",
      "<class 'str'> <class 'int'>\n",
      "<class 'str'> <class 'str'>\n"
     ]
    }
   ],
   "source": [
    "# checking type\n",
    "for x, y in thisdict.items():\n",
    "    print(type(x), type(y))"
   ]
  },
  {
   "cell_type": "code",
   "execution_count": 18,
   "metadata": {},
   "outputs": [
    {
     "name": "stdout",
     "output_type": "stream",
     "text": [
      "4\n",
      "{'brand': 'Ford', 'model': 'Mustang', 'year': 1964, 'color': 'red'}\n"
     ]
    }
   ],
   "source": [
    "# # Loop through both keys and values, by using the items() function:\n",
    "print(len(thisdict))\n",
    "# # Adding items into the dictionary\n",
    "thisdict = {\"brand\": \"Ford\", \"model\": \"Mustang\", \"year\": 1964}\n",
    "thisdict[\"color\"] = \"red\"\n",
    "print(thisdict)"
   ]
  },
  {
   "cell_type": "code",
   "execution_count": 20,
   "metadata": {},
   "outputs": [
    {
     "name": "stdout",
     "output_type": "stream",
     "text": [
      "{'brand': 'Ford', 'year': 1964} \n",
      "\n"
     ]
    },
    {
     "data": {
      "text/plain": [
       "('year', 1964)"
      ]
     },
     "execution_count": 20,
     "metadata": {},
     "output_type": "execute_result"
    }
   ],
   "source": [
    "# # Removing items from the dictionary\n",
    "# # The pop() method removes the item with the specified key name:\n",
    "\n",
    "thisdict = {\"brand\": \"Ford\", \"model\": \"Mustang\", \"year\": 1964}\n",
    "thisdict.pop(\"model\")\n",
    "print(thisdict, '\\n')\n",
    "\n",
    "thisdict ={\"brand\": \"Ford\", \"model\": \"Mustang\", \"year\": 1964}\n",
    "thisdict.popitem()\n",
    "#print(thisdict)\n",
    "\n"
   ]
  },
  {
   "cell_type": "code",
   "execution_count": 26,
   "metadata": {},
   "outputs": [
    {
     "data": {
      "text/plain": [
       "{1: 'Hello', 2: 'World'}"
      ]
     },
     "execution_count": 26,
     "metadata": {},
     "output_type": "execute_result"
    }
   ],
   "source": [
    "# update --  add items of one dict into another\n",
    "\n",
    "d1 = {1 : 'Hello'}\n",
    "d2 = {2 : 'World'}\n",
    "\n",
    "d1.update(d2)\n",
    "d1"
   ]
  },
  {
   "cell_type": "markdown",
   "metadata": {},
   "source": [
    "Assignment : \n",
    "- go through List, tuple, set, dict\n",
    "- play with inbuild method for above collection\n"
   ]
  }
 ],
 "metadata": {
  "hide_input": false,
  "kernelspec": {
   "display_name": "Python (bellora)",
   "language": "python",
   "name": "bellora"
  },
  "language_info": {
   "codemirror_mode": {
    "name": "ipython",
    "version": 3
   },
   "file_extension": ".py",
   "mimetype": "text/x-python",
   "name": "python",
   "nbconvert_exporter": "python",
   "pygments_lexer": "ipython3",
   "version": "3.6.8"
  }
 },
 "nbformat": 4,
 "nbformat_minor": 2
}
